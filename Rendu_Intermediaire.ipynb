{
  "nbformat": 4,
  "nbformat_minor": 0,
  "metadata": {
    "colab": {
      "name": "Rendu_Intermediaire.ipynb",
      "provenance": [],
      "collapsed_sections": []
    },
    "kernelspec": {
      "name": "python3",
      "display_name": "Python 3"
    }
  },
  "cells": [
    {
      "cell_type": "markdown",
      "metadata": {
        "id": "u-xxDrI126QR",
        "colab_type": "text"
      },
      "source": [
        "<h1><center><b>Compte-Rendu Intermediaire</b></center></h1>\n",
        "\n",
        "## Bilan\n",
        "Je me présente je m'appelle Henri. Je voudrai bien réussir ma vi être aiméééé !\n",
        "\n",
        "## Formalisation du problème\n",
        "\n",
        "Soit G = (V, A) un graphe orienté avec : \n",
        "\n",
        "*   |V | = n\n",
        "*   |A| = m\n",
        "\t\n",
        "Soit R un ensemble de ressources avec |R| = $n_r$.\n",
        "A chaque arc (i,j) de A, on associe un cout c<sub>i,j</sub>  (on suppose positif ) et un vecteur de consommation de ressource t<sub>i,j</sub>   de dimension $n_r$  \n",
        "On considère des contraintes de ressources finales portant uniquement sur la borne supérieure.\n",
        "\n",
        "**Objectif:**\n",
        "On cherche a trouver un chemin qui minimise le coût et dont la consommation de ressource (noté T) respecte les contraintes.\n",
        "\n",
        "### Definition\n",
        "\n",
        "* **Etiquette** : vecteur associé à un chemin et dont les coordonnées sont le coût et les consommations des différentes ressources.\n",
        "* **Orde de Pareto** : Une étiquette E domine E' ssi toute les cordonnées de E sont supérieur ou égale à celle de E' et qu’au moins une coordonnée de E est strictement supérieur à celle de E'\n",
        "\n",
        "## Algorithme de résolution du PCCC\n",
        "On utilisera **l'algorithme à correction d'étiquettes**. \n",
        "On considère un graphe de source le sommet s et de puit le sommet t.\n",
        "A chaque sommet i on associe un ensemble d'étiquettes E<sub>s,i</sub> qui correspondes à des chemins entre la source et ce sommet.\n",
        "A l'initialisation, tous les ensembles E<sub>s,i</sub> sont vides car aucun chemin n'a été traité exépté E<sub>s,s</sub> qui vaut {0}.\n",
        "\n",
        "\n",
        "On condisere une liste *L* qui contient l'ensemble des sommet dont au moins une étiquette n'a pas encore été propagé, et qu'on met a jour a chaque itération.\n",
        "  \n",
        "A chaque intération, on choisi un sommet de *L* et on propage ses étiquette à ses successeurs si cette propagation respecte les contraintes. On élimine ce sommet de *L*. On ajoute ainsi de nouvelles étiquettes à ses successeur sur lesquelles on effectuera un test de domination au sens de l'ordre de Pareto afin de ne conserver que les étiquettes non-dominé. Ce test de domination permet d'éventuellement **corriger** les étiquettes déjà existantes , d'où le nom de l'algorithme.\n",
        "\n",
        "A chaque fois qu'on crée une nouvelle étiquette qui est maintenu après le test de domination, le sommet qui lui correspond est ajouté à la liste *L*. L'algorithme s'arrête une fois que la liste est vide donc lorsque tous les sommets sont traités et que les propagations ne change plus les étiquettes.\n",
        "\n",
        "Sur tous les sommets et particulièrement en t, l'algorithme permet d'obtenir une ou plusieurs étiquettes non dominées  donc candidates comme solutions du problème.\n",
        "Etant donné que le but est de minimiser le cout de s à t, l'algorithme renvoie le chemin ayant le cout le plus faible en t. S'il y en a plusieurs, on en choisit un. \n",
        "Notons que dans cet algorithme, on calcule le plus court chemin contraint de s à tous les autres sommets du graphe.\n",
        "\n",
        "![Algorithme](https://drive.google.com/uc?id=1GNPnNF0-vO_jykku-rCmQeSDKuthGv9E)\n",
        "\n",
        "\n",
        "\n",
        "\n",
        "\n",
        "\n",
        "\n",
        "\n",
        "\n",
        "\n",
        "\n"
      ]
    },
    {
      "cell_type": "markdown",
      "metadata": {
        "id": "MRDY0aeUt24D",
        "colab_type": "text"
      },
      "source": [
        "\n",
        "## Modélisation et génération du graph\n",
        "Nous avons décidé de modéliser nos graphs à l'aide de la POO. Vous pouvez voir ci-dessous la classe *Graph* dont chaque instance contient un attribut *ressource* (liste contenant l'ensemble des ressources) et un attribut *graph_dict* (dictionnaire contenant l'ensemble des arcs avec leurs coût et leur consommation de ressource)\n"
      ]
    },
    {
      "cell_type": "code",
      "metadata": {
        "id": "sQMvHOCDtYxY",
        "colab_type": "code",
        "colab": {}
      },
      "source": [
        "import numpy as np\n",
        "\n",
        "\"\"\"\n",
        "    Modélisation d'un graphe : classe graphe\n",
        "    Le graphe sera modélisé sous la forme d'un double-dictionnaire \n",
        "    arc[S1 : sommet origine][S2 : sommet but ] = vecteur \n",
        "    Si le vecteur existe, alors il y a un arc entre S1 et S2\n",
        "    Le vecteur sera de taille 1+R et représentera le vecteur cout et ressources de l'arc\n",
        "    vecteur[0] = cout de l'arc\n",
        "    vecteur[i] = Consommation ressource i sur l'arc ou i = [| 1 ; R |]\n",
        "    \n",
        "\"\"\"\n",
        "class Graphe:\n",
        "    nb_graph=0\n",
        "\n",
        "    #res = nom des ressources à considérer\n",
        "    def __init__(self,res=None):\n",
        "        self.arc={} #double dictionnaire \n",
        "        self.noeud=[] #noeud\n",
        "        if(type(res) is not list):\n",
        "          res=[res]\n",
        "        self.ressource=res # nom des ressources\n",
        "        #Nombre de ressource\n",
        "        if(res==[None]):\n",
        "          self.nb_ressources = 0\n",
        "        else:  \n",
        "          self.nb_ressources = len(res) \n",
        "        Graphe.nb_graph+=1\n",
        "    \n",
        "    #Fonction permettant d'ajouter une/des ressources\n",
        "    def ajout_ressource(self,nom_ress):\n",
        "      if (type(nom_ress) is not list):\n",
        "        nom_ress=[nom_ress]\n",
        "      for nom in nom_ress:\n",
        "        if(self.ressource==[None]):\n",
        "          self.ressource=[nom]\n",
        "        else: \n",
        "          self.ressource.append(nom)\n",
        "        self.nb_ressources+=1\n",
        "        for source in self.arc.keys():\n",
        "          for cible in self.arc[source].keys():\n",
        "            self.arc[source][cible].append(0)\n",
        "        \n",
        "    #Fonction permettant l'ajout d'un/des sommet au graphe\n",
        "    def ajoutNoeud(self,sommet):\n",
        "      if (type(sommet) is not list):\n",
        "        sommet=[sommet]\n",
        "      for som in sommet:\n",
        "        if (som in self.noeud):\n",
        "          print('Le sommet ',som,' est déjà présent dans votre graph')\n",
        "        else:\n",
        "          self.noeud.append(som)\n",
        "    \n",
        "    #Fonction permettant de connaitre le nombre d'arcs du graphe\n",
        "    def nb_arcs(self):\n",
        "      res=0\n",
        "      for key1 in self.arc:\n",
        "        for key2 in self.arc[key1].keys():\n",
        "          res+=1\n",
        "      return(res)\n",
        "    \n",
        "    #Fonction permettant l'ajout d'un/des arc entre 2 sommets\n",
        "    def ajoutArc(self,origin,dest,conso):\n",
        "        #conso = Cout de l'emprunt de l'arc et consommation des ressources\n",
        "        if(type(origin) is not list):\n",
        "          origin=[origin]\n",
        "        if(type(dest) is not list):\n",
        "          dest=[dest]\n",
        "        if (type(conso) is not list):\n",
        "          conso=[conso]\n",
        "        if(type(conso[0]) is not list):\n",
        "          conso=[conso]\n",
        "        for i in range(len(origin)):\n",
        "          if(len(conso[i])==self.nb_ressources+1):\n",
        "            if(origin[i] not in self.noeud):\n",
        "                self.ajoutNoeud(origin[i])\n",
        "            if(origin[i] not in self.arc.keys()):\n",
        "                self.arc[origin[i]]={}\n",
        "            if (dest[i] not in self.noeud):\n",
        "              self.ajoutNoeud(dest[i])\n",
        "            self.arc[origin[i]][dest[i]]=conso[i]\n",
        "          else:\n",
        "            print(\"Le vecteur conso de l'arc (\",origin[i],dest[i],\") n'a pas la bonne dimention. L'arc n'a donc pas été ajouté\") \n",
        "        \n",
        "    #Fonction retournant les predecesseurs d'un sommet sous forme de liste    \n",
        "    def predecesseurs(self,sommet):\n",
        "        liste_pred = []\n",
        "        for key in self.arc.keys():\n",
        "            if(sommet in self.arc[key].keys()):\n",
        "                liste_pred.append(key)  \n",
        "        return(liste_pred)\n",
        "        \n",
        "    #Fonction retournant les successeurs d'un sommet sous forme de liste\n",
        "    def successeurs(self,sommet):\n",
        "        liste_suc = []\n",
        "        for key in self.arc[sommet].keys():\n",
        "            liste_suc.append(key)\n",
        "        return(liste_suc)\n",
        "    \n",
        "    #Fonction affichant le graphe sous forme\n",
        "    # Sommet(nombre de successeurs) : [{successeur_i : vecteur conso }, ... ]\n",
        "    def affiche(self):\n",
        "        for key in self.arc.keys():\n",
        "            print(key+\"(\"+str(len(self.arc[key]))+\"): [ \",end=\"\")\n",
        "            for cle in self.arc[key].keys():\n",
        "                print(\"{\"+cle+\" : \"+str(self.arc[key][cle])+\" } ,\",end=\"\")\n",
        "            print(\"]\")\n"
      ],
      "execution_count": 0,
      "outputs": []
    },
    {
      "cell_type": "code",
      "metadata": {
        "id": "I770ZIAUlVTo",
        "colab_type": "code",
        "outputId": "b41bc069-12ce-495e-f01d-47991b9da114",
        "colab": {
          "base_uri": "https://localhost:8080/",
          "height": 119
        }
      },
      "source": [
        "g=Graphe()\n",
        "g.ajout_ressource(\"fatigue\")\n",
        "g.ajout_ressource([\"prix essence\",\"cris des enfants\"])\n",
        "g.ajoutNoeud(\"paris\")\n",
        "g.ajoutNoeud([\"Berlin\",\"Tokyo\"])\n",
        "g.ajoutArc(\"Paris\",\"Berlin\",[1,2,3,4])\n",
        "g.ajoutArc([\"Paris\",\"Tokyo\"],[\"Paris\",\"Paris\"],[[1,2,3,4],[4,3,2,1]])\n",
        "print(g.ressource)\n",
        "print(g.noeud)\n",
        "print(g.arc)\n",
        "g.affiche()\n",
        "g.nb_arcs()"
      ],
      "execution_count": 0,
      "outputs": [
        {
          "output_type": "stream",
          "text": [
            "['fatigue', 'prix essence', 'cris des enfants']\n",
            "['paris', 'Berlin', 'Tokyo', 'Paris']\n",
            "{'Paris': {'Berlin': [1, 2, 3, 4], 'Paris': [1, 2, 3, 4]}, 'Tokyo': {'Paris': [4, 3, 2, 1]}}\n",
            "Paris(2): [ {Berlin : [1, 2, 3, 4] } ,{Paris : [1, 2, 3, 4] } ,]\n",
            "Tokyo(1): [ {Paris : [4, 3, 2, 1] } ,]\n"
          ],
          "name": "stdout"
        },
        {
          "output_type": "execute_result",
          "data": {
            "text/plain": [
              "3"
            ]
          },
          "metadata": {
            "tags": []
          },
          "execution_count": 15
        }
      ]
    },
    {
      "cell_type": "code",
      "metadata": {
        "id": "_6UZtGLqVkDL",
        "colab_type": "code",
        "colab": {}
      },
      "source": [
        "\"\"\" Création d'une fonction Pareto qui prend comme paramètre 2 arcs et \n",
        "    renvoie l'arc qui domine au sens de Pareto, ou les 2 arcs si pas \n",
        "    de dommination. Un vecteur domine si il minimise la consommation de ressources    \"\"\"\n",
        "    \n",
        "def ordre_Pareto(arc1,arc2):\n",
        "    arc = arc1 - arc2\n",
        "    retour = None\n",
        "    if all(arc>=0)==True:\n",
        "        retour =[arc2.tolist()]\n",
        "    elif all(arc<0)==True:\n",
        "        retour = [arc1.tolist()]\n",
        "    else:\n",
        "        retour = [arc1.tolist(),arc2.tolist()]\n",
        "    return(retour)\n",
        "\n",
        "def Pareto(E):\n",
        "   #enleve les valeurs dupliques\n",
        "   resu=[]\n",
        "   for i in E:\n",
        "     if i not in resu:\n",
        "       resu.append(i)\n",
        "   #Conserve uniquement les element non dominés\n",
        "   for element1 in resu:\n",
        "     for element2 in resu:\n",
        "       if(element1!=element2):\n",
        "        test=ordre_Pareto(np.array(element1),np.array(element2))\n",
        "        if(len(test)==1):\n",
        "          if element1==test[0]:\n",
        "            resu.remove(element2)\n",
        "          else:\n",
        "            resu.remove(element1)\n",
        "     return(resu)\n",
        "\n",
        "def correc_etiquette(g,contraintes):\n",
        "  if type(contraintes) is not list:\n",
        "    \n",
        "  if(g.nb_ressources\n",
        "\n"
      ],
      "execution_count": 0,
      "outputs": []
    },
    {
      "cell_type": "code",
      "metadata": {
        "id": "MK5kqzhrn7JG",
        "colab_type": "code",
        "outputId": "08c3cb44-b24a-46d5-f1bd-67dd34fc60a6",
        "colab": {
          "base_uri": "https://localhost:8080/"
        }
      },
      "source": [
        "arr = np.array([[1,2,3,4], [5,6,7,8], [9,10,11,12]])\n",
        "arr[np.array([not np.all(arr[i]==[1,2,3,4]) for i in range(3)])]\n",
        "np.append(arr[1],0)"
      ],
      "execution_count": 0,
      "outputs": [
        {
          "output_type": "execute_result",
          "data": {
            "text/plain": [
              "array([5, 6, 7, 8, 0])"
            ]
          },
          "metadata": {
            "tags": []
          },
          "execution_count": 23
        }
      ]
    },
    {
      "cell_type": "markdown",
      "metadata": {
        "id": "yrzB1HxDz-tk",
        "colab_type": "text"
      },
      "source": [
        "# Résolution par PuLP du modèle de PLNE"
      ]
    },
    {
      "cell_type": "code",
      "metadata": {
        "id": "OFwRSRoU0AWT",
        "colab_type": "code",
        "colab": {}
      },
      "source": [
        "from pulp import *\n",
        "prob = LpProblem(\"PLNE\", LpMinimize)"
      ],
      "execution_count": 0,
      "outputs": []
    },
    {
      "cell_type": "markdown",
      "metadata": {
        "colab_type": "text",
        "id": "kFte89k1uQkR"
      },
      "source": [
        "\n",
        "Ici, on s'intéressera à la modélisation en PLNE du problème de PCCC (Plus Court Chemin avec Contraintes de ressources). Le problème a été formalisé en première partie du notebook. On cherche le plus court chemin de s à t en respectant les contraintes de ressources.\n",
        "On considère également les contraintes de ressources finales donc pour chaque contrainte, on aura un majorant sur tout le chemin.\n",
        "\n",
        "**Variables**  \n",
        "Pour tout $a \\in A$ : $x_{a} \\in ${$0,1$}$ = 1 $ si et seulement si $a$ est dans le chemin choisi  \n",
        "\n",
        "**Objectif**  \n",
        "Minimiser le coût du chemin:  \n",
        "$ {min} \\sum \\limits_{{a \\in A}} c_a*x_a $\n",
        "\n",
        "**Contraintes**  \n",
        "Conservation du flot:  $ \\forall i \\ne s,t $ on a  $ \\sum \\limits_{(i,j)\\in \\delta^+(i)} x_{ij} = \\sum \\limits_{(j,i)\\in \\delta^-(i)} x_{ji}   $\n",
        "\n",
        "Flot entrant de t:  $ \\sum \\limits_{(i,t) \\in \\delta^-(t)} x_{it} = 1 $  \n",
        "Flot sortant de s:  $ \\sum \\limits_{(s,i) \\in \\delta^+(s)} x_{si} = 1 $  \n",
        "Contraintes de ressources sur les arcs:\n",
        "$ \\forall r\\in ${$1,2,\\dots, n_r $}, $\\sum \\limits_{a \\in A} t^r_a*x_a \\le b^r$ où $b^r$ est la consommation maximale de la ressource $r$.\n",
        "\n",
        "\n",
        "\n",
        "\n"
      ]
    },
    {
      "cell_type": "code",
      "metadata": {
        "id": "_F2tIwoU00l6",
        "colab_type": "code",
        "colab": {}
      },
      "source": [
        "graphe = Graphe()\n",
        "x = LpVariable(\"x\",(graphe.nb_arcs(),graphe.nb_arcs()),0,1,LpInteger)\n"
      ],
      "execution_count": 0,
      "outputs": []
    }
  ]
}