{
  "nbformat": 4,
  "nbformat_minor": 0,
  "metadata": {
    "colab": {
      "name": "Rendu_IntermediaireV2.ipynb",
      "provenance": [],
      "collapsed_sections": [],
      "include_colab_link": true
    },
    "kernelspec": {
      "name": "python3",
      "display_name": "Python 3"
    }
  },
  "cells": [
    {
      "cell_type": "markdown",
      "metadata": {
        "id": "view-in-github",
        "colab_type": "text"
      },
      "source": [
        "<a href=\"https://colab.research.google.com/github/dmkant/Camino/blob/master/Rendu_Intermediaire.ipynb\" target=\"_parent\"><img src=\"https://colab.research.google.com/assets/colab-badge.svg\" alt=\"Open In Colab\"/></a>"
      ]
    },
    {
      "cell_type": "markdown",
      "metadata": {
        "id": "u-xxDrI126QR",
        "colab_type": "text"
      },
      "source": [
        "<h1><center><b>Compte-Rendu Intermediaire</b></center></h1>\n",
        "\n",
        "## Bilan\n",
        "Je me présente je m'appelle Johnny. Je voudrai bien réussir ma vi être aiméééé !\n",
        "\n",
        "## Formalisation du problème\n",
        "\n",
        "Soit G = (V, A) un graphe orienté avec : \n",
        "\n",
        "*   |V | = n\n",
        "*   |A| = m\n",
        "\t\n",
        "Soit R un ensemble de ressources avec |R| = $n_r$.\n",
        "A chaque arc (i,j) de A, on associe un cout c<sub>i,j</sub>  (on suppose positif ) et un vecteur de consommation de ressource t<sub>i,j</sub>   de dimension $n_r$  \n",
        "On considère des contraintes de ressources finales portant uniquement sur la borne supérieure.\n",
        "\n",
        "**Objectif:**\n",
        "On cherche a trouver un chemin qui minimise le coût et dont la consommation de ressource (noté T) respecte les contraintes.\n",
        "\n",
        "### Definition\n",
        "\n",
        "* **Etiquette** : vecteur associé à un chemin et dont les coordonnées sont le coût et les consommations des différentes ressources.\n",
        "* **Orde de Pareto** : Une étiquette E domine E' ssi toute les cordonnées de E sont supérieur ou égale à celle de E' et qu’au moins une coordonnée de E est strictement supérieur à celle de E'\n",
        "\n",
        "## Algorithme de résolution du PCCC\n",
        "On utilisera **l'algorithme à correction d'étiquettes**. \n",
        "On considère un graphe de source le sommet s et de puit le sommet t.\n",
        "A chaque sommet i on associe un ensemble d'étiquettes E<sub>s,i</sub> qui correspondes à des chemins entre la source et ce sommet.\n",
        "A l'initialisation, tous les ensembles E<sub>s,i</sub> sont vides car aucun chemin n'a été traité exépté E<sub>s,s</sub> qui vaut {0}.\n",
        "\n",
        "\n",
        "On condisere une liste *L* qui contient l'ensemble des sommet dont au moins une étiquette n'a pas encore été propagé, et qu'on met a jour a chaque itération.\n",
        "  \n",
        "A chaque intération, on choisi un sommet de *L* et on propage ses étiquette à ses successeurs si cette propagation respecte les contraintes. On élimine ce sommet de *L*. On ajoute ainsi de nouvelles étiquettes à ses successeur sur lesquelles on effectuera un test de domination au sens de l'ordre de Pareto afin de ne conserver que les étiquettes non-dominé. Ce test de domination permet d'éventuellement **corriger** les étiquettes déjà existantes , d'où le nom de l'algorithme.\n",
        "\n",
        "A chaque fois qu'on crée une nouvelle étiquette qui est maintenu après le test de domination, le sommet qui lui correspond est ajouté à la liste *L*. L'algorithme s'arrête une fois que la liste est vide donc lorsque tous les sommets sont traités et que les propagations ne change plus les étiquettes.\n",
        "\n",
        "Sur tous les sommets et particulièrement en t, l'algorithme permet d'obtenir une ou plusieurs étiquettes non dominées  donc candidates comme solutions du problème.\n",
        "Etant donné que le but est de minimiser le cout de s à t, l'algorithme renvoie le chemin ayant le cout le plus faible en t. S'il y en a plusieurs, on en choisit un. \n",
        "Notons que dans cet algorithme, on calcule le plus court chemin contraint de s à tous les autres sommets du graphe.\n",
        "\n",
        "![Algorithme](https://drive.google.com/uc?id=1GNPnNF0-vO_jykku-rCmQeSDKuthGv9E)\n",
        "\n",
        "\n",
        "\n",
        "\n",
        "\n",
        "\n",
        "\n",
        "\n",
        "\n",
        "\n",
        "\n"
      ]
    },
    {
      "cell_type": "markdown",
      "metadata": {
        "id": "MRDY0aeUt24D",
        "colab_type": "text"
      },
      "source": [
        "\n",
        "## Modélisation et génération du graph\n",
        "Nous avons décidé de modéliser nos graphs à l'aide de la POO. Vous pouvez voir ci-dessous la classe *Graph* dont chaque instance contient un attribut *ressource* (liste contenant l'ensemble des ressources) et un attribut *graph_dict* (dictionnaire contenant l'ensemble des arcs avec leurs coût et leur consommation de ressource)\n"
      ]
    },
    {
      "cell_type": "code",
      "metadata": {
        "id": "sQMvHOCDtYxY",
        "colab_type": "code",
        "colab": {}
      },
      "source": [
        "import numpy as np\n",
        "\n",
        "\"\"\"\n",
        "    Modélisation d'un graphe : classe graphe\n",
        "    Le graphe sera modélisé sous la forme d'un double-dictionnaire \n",
        "    arc[S1 : sommet origine][S2 : sommet but ] = vecteur \n",
        "    Si le vecteur existe, alors il y a un arc entre S1 et S2\n",
        "    Le vecteur sera de taille 1+R et représentera le vecteur cout et ressources de l'arc\n",
        "    vecteur[0] = cout de l'arc\n",
        "    vecteur[i] = Consommation ressource i sur l'arc ou i = [| 1 ; R |]\n",
        "    \n",
        "\"\"\"\n",
        "class Graphe:\n",
        "    nb_graph=0\n",
        "\n",
        "    #res = nom des ressources à considérer\n",
        "    def __init__(self,res=None):\n",
        "        self.arc={} #double dictionnaire \n",
        "        self.noeud=[] #noeud\n",
        "        if(type(res) is not list):\n",
        "          res=[res]\n",
        "        self.ressource=res # nom des ressources\n",
        "        #Nombre de ressource\n",
        "        if(res==[None]):\n",
        "          self.nb_ressources = 0\n",
        "        else:  \n",
        "          self.nb_ressources = len(res) \n",
        "        Graphe.nb_graph+=1\n",
        "    \n",
        "    #Fonction permettant d'ajouter une/des ressources\n",
        "    def ajout_ressource(self,nom_ress):\n",
        "      if (type(nom_ress) is not list):\n",
        "        nom_ress=[nom_ress]\n",
        "      for nom in nom_ress:\n",
        "        if(self.ressource==[None]):\n",
        "          self.ressource=[nom]\n",
        "        else: \n",
        "          self.ressource.append(nom)\n",
        "        self.nb_ressources+=1\n",
        "        for source in self.arc.keys():\n",
        "          for cible in self.arc[source].keys():\n",
        "           self.arc[source][cible]=np.append(self.arc[source][cible],0)\n",
        "        \n",
        "    #Fonction permettant l'ajout d'un/des sommet au graphe\n",
        "    def ajoutNoeud(self,sommet):\n",
        "      if (type(sommet) is not list):\n",
        "        sommet=[sommet]\n",
        "      for som in sommet:\n",
        "        if (som in self.noeud):\n",
        "          print('Le sommet ',som,' est déjà présent dans votre graph')\n",
        "        else:\n",
        "          self.noeud.append(som)\n",
        "    \n",
        "    #Fonction permettant l'ajout d'un/des arc entre 2 sommets\n",
        "    def ajoutArc(self,origin,dest,conso):\n",
        "        #conso = Cout de l'emprunt de l'arc et consommation des ressources\n",
        "        if(type(origin) is not list):\n",
        "          origin=[origin]\n",
        "        if(type(dest) is not list):\n",
        "          dest=[dest]\n",
        "        if (type(conso) is not list):\n",
        "          conso=[conso]\n",
        "        if(type(conso[0]) is not list):\n",
        "          conso=[conso]\n",
        "        for i in range(len(origin)):\n",
        "          if(len(conso[i])==self.nb_ressources+1):\n",
        "            if(origin[i] not in self.noeud):\n",
        "                self.ajoutNoeud(origin[i])\n",
        "            if(origin[i] not in self.arc.keys()):\n",
        "                self.arc[origin[i]]={}\n",
        "            if (dest[i] not in self.noeud):\n",
        "              self.ajoutNoeud(dest[i])\n",
        "            self.arc[origin[i]][dest[i]]=np.array(conso[i])\n",
        "          else:\n",
        "            print(\"Le vecteur conso de l'arc (\",origin[i],dest[i],\") n'a pas la bonne dimention. L'arc n'a donc pas été ajouté\") \n",
        "        \n",
        "    #Fonction retournant les predecesseurs d'un sommet sous forme de liste    \n",
        "    def predecesseurs(self,sommet):\n",
        "        liste_pred = []\n",
        "        for key in self.arc.keys():\n",
        "            if(sommet in self.arc[key].keys()):\n",
        "                liste_pred.append(key)  \n",
        "        return(liste_pred)\n",
        "        \n",
        "    #Fonction retournant les successeurs d'un sommet sous forme de liste\n",
        "    def successeurs(self,sommet):\n",
        "        liste_suc = []\n",
        "        for key in self.arc[sommet].keys():\n",
        "            liste_suc.append(key)\n",
        "        return(liste_suc)\n",
        "    \n",
        "    #Fonction affichant le graphe sous forme\n",
        "    # Sommet(nombre de successeurs) : [{successeur_i : vecteur conso }, ... ]\n",
        "    def affiche(self):\n",
        "        for key in self.arc.keys():\n",
        "            print(key+\"(\"+str(len(self.arc[key]))+\"): [ \",end=\"\")\n",
        "            for cle in self.arc[key].keys():\n",
        "                print(\"{\"+cle+\" : \"+str(self.arc[key][cle])+\" } ,\",end=\"\")\n",
        "            print(\"]\")\n"
      ],
      "execution_count": 0,
      "outputs": []
    },
    {
      "cell_type": "code",
      "metadata": {
        "id": "I770ZIAUlVTo",
        "colab_type": "code",
        "outputId": "6891d40e-d719-4539-d667-aee094fe16da",
        "colab": {
          "base_uri": "https://localhost:8080/",
          "height": 121
        }
      },
      "source": [
        "g=Graphe()\n",
        "g.ajout_ressource(\"fatigue\")\n",
        "g.ajout_ressource([\"prix essence\",\"cris des enfants\"])\n",
        "g.ajoutNoeud(\"Paris\")\n",
        "g.ajoutNoeud([\"Berlin\",\"Tokyo\"])\n",
        "g.ajoutArc(\"Paris\",\"Berlin\",[1,2,3,4])\n",
        "g.ajoutArc([\"Berlin\",\"Tokyo\"],[\"Tokyo\",\"Tokyo\"],[[1,2,3,4],[4,3,2,1]])\n",
        "print(g.ressource)\n",
        "print(g.noeud)\n",
        "print(g.arc)\n",
        "g.affiche()"
      ],
      "execution_count": 0,
      "outputs": [
        {
          "output_type": "stream",
          "text": [
            "['fatigue', 'prix essence', 'cris des enfants']\n",
            "['Paris', 'Berlin', 'Tokyo']\n",
            "{'Paris': {'Berlin': array([1, 2, 3, 4])}, 'Berlin': {'Tokyo': array([1, 2, 3, 4])}, 'Tokyo': {'Tokyo': array([4, 3, 2, 1])}}\n",
            "Paris(1): [ {Berlin : [1 2 3 4] } ,]\n",
            "Berlin(1): [ {Tokyo : [1 2 3 4] } ,]\n",
            "Tokyo(1): [ {Tokyo : [4 3 2 1] } ,]\n"
          ],
          "name": "stdout"
        }
      ]
    },
    {
      "cell_type": "code",
      "metadata": {
        "id": "_6UZtGLqVkDL",
        "colab_type": "code",
        "colab": {}
      },
      "source": [
        "\"\"\" Création d'une fonction Pareto qui prend comme paramètre 2 arcs et \n",
        "    renvoie l'arc qui domine au sens de Pareto, ou les 2 arcs si pas \n",
        "    de dommination. Un vecteur domine si il minimise la consommation de ressources    \"\"\"\n",
        "    \n",
        "def ordre_Pareto(arc1,arc2):\n",
        "    arc = arc1 - arc2\n",
        "    retour = None\n",
        "    if np.all(arc>=0)==True:\n",
        "        retour =np.array([arc2])\n",
        "    elif np.all(arc<0)==True:\n",
        "        retour = np.array([arc1.tolist()])\n",
        "    else:\n",
        "        retour = np.array([arc1,arc2])\n",
        "    return(retour)\n",
        "def supp_doublon(E):\n",
        "  #enleve les valeurs dupliques\n",
        "  uniq_value=np.unique(E[1],axis=0,return_counts=True)\n",
        "  doublons=uniq_value[0][uniq_value[1]>1]\n",
        "  succ=E[0]\n",
        "  for d in doublons:\n",
        "    succ_doub_ind=np.array([i for i, e in enumerate(E[1]) if np.all(e==d)])\n",
        "    choix=np.random.choice(succ_doub_ind)\n",
        "    suppression=succ_doub_ind[np.array(succ_doub_ind!=choix)]\n",
        "    conserver=np.array([i for i in range(len(E[0]))])\n",
        "    conserver=conserver[[i for i in range(len(E[0])) if conserver[i] not in suppression]]\n",
        "    E[0]=E[0][conserver]\n",
        "  E[1]=uniq_value[0]\n",
        "  return(E)\n",
        "\n",
        "def Pareto(E):\n",
        "   E=supp_doublon(E)\n",
        "   #Conserve uniquement les element non dominés\n",
        "   for i in range(len(E[0])):\n",
        "     element1=E[1][i]\n",
        "     for j in range(len(E[0])):\n",
        "       if(i!=j):\n",
        "        element2=E[1][j]\n",
        "        test=ordre_Pareto(element1,element2)\n",
        "        if(len(test)==1):\n",
        "          if np.all(element1==test[0]):\n",
        "            E[1]=np.delete(E[1],j,axis=0)\n",
        "            E[0]=np.delete(E[0],j)\n",
        "          else:\n",
        "            E[1]=np.delete(E[1],i,axis=0)\n",
        "            E[0]=np.delete(E[0],i)\n",
        "     return(E)\n",
        "\n",
        "def PCC(E,source=\"s\",puit=\"t\"):\n",
        "  chemin=[puit]\n",
        "  cout_mini_chemin=E[puit][1][::,0]==min(E[puit][1][::,0])\n",
        "  pred=E[puit][0][cout_mini_chemin][0]\n",
        "  chemin.append(pred)\n",
        "  while pred!=source:\n",
        "    print(pred)\n",
        "    cout_mini=E[pred][1][::,0]==min(E[pred][1][::,0])\n",
        "    pred=E[pred][0][cout_mini][0]\n",
        "    chemin.append(pred)\n",
        "  return([chemin[::-1],E[puit][1][cout_mini_chemin]])\n",
        "\n",
        "\n",
        "def correc_etiquette(g,contraintes,source=\"s\",puit=\"t\"):\n",
        "  if(source not in g.noeud or puit not in g.noeud):\n",
        "    print(\"Erreur: votre source ou votre puit ne figurent pas parmi les sommets de votre graph\")\n",
        "    return(-1)\n",
        "  #Initialisation\n",
        "  List=[source]\n",
        "  Etiq={noeud: [] for noeud in g.noeud}\n",
        "  Etiq[source]=[np.array([source]),np.array([np.zeros(g.nb_ressources+1)])]\n",
        "  while(len(List)!=0):\n",
        "    i=np.random.choice(List)\n",
        "    List.remove(i)\n",
        "    if(i in g.arc.keys()):\n",
        "      for j in g.successeurs(i):\n",
        "        for k in range(len(Etiq[i][1])):\n",
        "          E=Etiq[i][1][k]\n",
        "          if(np.all(g.arc[i][j][1:len(g.arc[i][j])]+E[1:len(E)]<=contraintes)):\n",
        "            E2=g.arc[i][j]+E\n",
        "            if len(Etiq[j])==0:\n",
        "              Etiq[j]=[np.array([i]),np.array([E2])]\n",
        "            else:\n",
        "              Etiq[j][1]=np.append(Etiq[j][1],np.array([E2]),axis=0)\n",
        "              Etiq[j][0]=np.append(Etiq[j][0],i)\n",
        "            Etiq[j]=Pareto(Etiq[j])\n",
        "            if(E2 in Etiq[j][1]):\n",
        "              List.append(j)\n",
        "  return(PCC(Etiq,source=source,puit=puit))\n",
        "\n",
        "\n",
        "\n"
      ],
      "execution_count": 0,
      "outputs": []
    },
    {
      "cell_type": "code",
      "metadata": {
        "id": "LL_JW_KRmKFk",
        "colab_type": "code",
        "outputId": "aa493703-f4f4-4be0-e536-55e9a5c4b04c",
        "colab": {
          "base_uri": "https://localhost:8080/",
          "height": 68
        }
      },
      "source": [
        "# Exemple sur jeux de données\n",
        "g=Graphe()\n",
        "g.ajout_ressource(\"prix\")\n",
        "g.ajoutNoeud([\"France\",\"Allemagne\",\"Belgique\",\"Turquie\",\"Chine\",\"Russie\",\"Japon\"])\n",
        "g.ajoutArc([\"France\",\"France\",\"Allemagne\",\"Turquie\",\"Chine\",\"Belgique\",\"Russie\"],\n",
        "           [\"Allemagne\",\"Belgique\",\"Turquie\",\"Chine\",\"Japon\",\"Russie\",\"Japon\"],\n",
        "           [[3,107],[4,146],[2,65],[9,160],[2,98],[2,48],[6,300]])\n",
        "\n",
        "correc_etiquette(g,np.array([550]),\"France\",\"Japon\")\n",
        "\n",
        "\n"
      ],
      "execution_count": 0,
      "outputs": [
        {
          "output_type": "stream",
          "text": [
            "Russie\n",
            "Belgique\n"
          ],
          "name": "stdout"
        },
        {
          "output_type": "execute_result",
          "data": {
            "text/plain": [
              "[['France', 'Belgique', 'Russie', 'Japon'], array([[ 12., 494.]])]"
            ]
          },
          "metadata": {
            "tags": []
          },
          "execution_count": 22
        }
      ]
    },
    {
      "cell_type": "markdown",
      "metadata": {
        "id": "5D37EqRxAJ7H",
        "colab_type": "text"
      },
      "source": [
        "Exemple de résolution\n",
        "\n",
        "Un jeune politicien, Paul Politics, a pour objectif de se présenter aux prochaines élections. Sauf surprise, il est assuré de gagner. Cependant, il sait également que la vie d'un politicien classique se termine lorsqu'il finit \"déchu\", n'ayant plus le soutien de la population. \n",
        "Entre le début de la campagne et sa certaine déchéance, son objectif est de minimiser l'argent investi tout en ayant des contraintes sur 3 ressources : le nombre de ses collaborateurs, son énergie dépensée (son niveau d'implication), la distance parcourue en déplacement.\n",
        "Entre le debut de sa campagne et sa decheance, il doit passer par certaines étapes qui seront les sommets de notre graphe : la source sera donc le debut de la campagne et le puit la decheance.\n",
        "\n"
      ]
    },
    {
      "cell_type": "code",
      "metadata": {
        "id": "BB_GDaHaCg4X",
        "colab_type": "code",
        "outputId": "54476075-0ce2-4755-bd5a-fc2825606cbc",
        "colab": {
          "base_uri": "https://localhost:8080/",
          "height": 68
        }
      },
      "source": [
        "Paul = Graphe()\n",
        "Paul.ajout_ressource([\"nb_colab\",\"distance\",\"energie\"])\n",
        "Paul.ajoutNoeud([\"Debut\",\"Meetings\",\"Conferences\",\"Financement\",\"Corruption\",\"Demagogie\",\"Election\",\"Decheance\"])\n",
        "Paul.ajoutArc([\"Debut\",\"Debut\",\"Debut\",\"Financement\",\"Conferences\",\"Conferences\",\"Meetings\",\"Corruption\",\"Corruption\",\"Demagogie\",\"Election\"],\n",
        "              [\"Meetings\",\"Conferences\",\"Financement\",\"Conferences\",\"Corruption\",\"Demagogie\",\"Corruption\",\"Election\",\"Decheance\",\"Election\",\"Decheance\"],\n",
        "              [[15,1,3,4],[10,1,4,5],[8,2,6,5],[4,5,6,2],[20,2,0,1],[2,3,9,1],[10,3,0,4],[1,6,2,8],[2,6,6,4],[4,3,2,2],[4,5,6,4]])\n",
        "\n",
        "\"\"\"Vecteur consommation max de ressources \n",
        "1 - Pas plus de 12  collaborateurs\n",
        "2-  Pas plus de 20 unités d'energie\n",
        "3-  Une distance inférieure à 15 unités\"\"\"\n",
        "conso = np.array([12,20,15])\n",
        "parcours = correc_etiquette(Paul,conso,\"Debut\",\"Decheance\")\n",
        "print(parcours)\n",
        "\n"
      ],
      "execution_count": 0,
      "outputs": [
        {
          "output_type": "stream",
          "text": [
            "Corruption\n",
            "Meetings\n",
            "[['Debut', 'Meetings', 'Corruption', 'Decheance'], array([[27., 10.,  9., 12.]])]\n"
          ],
          "name": "stdout"
        }
      ]
    }
  ]
}