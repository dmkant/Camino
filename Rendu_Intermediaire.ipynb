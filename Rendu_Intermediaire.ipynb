{
  "nbformat": 4,
  "nbformat_minor": 0,
  "metadata": {
    "colab": {
      "name": "Rendu_Intermediaire.ipynb",
      "provenance": [],
      "collapsed_sections": [],
      "include_colab_link": true
    },
    "kernelspec": {
      "name": "python3",
      "display_name": "Python 3"
    }
  },
  "cells": [
    {
      "cell_type": "markdown",
      "metadata": {
        "id": "view-in-github",
        "colab_type": "text"
      },
      "source": [
        "<a href=\"https://colab.research.google.com/github/dmkant/Camino/blob/master/Rendu_Intermediaire.ipynb\" target=\"_parent\"><img src=\"https://colab.research.google.com/assets/colab-badge.svg\" alt=\"Open In Colab\"/></a>"
      ]
    },
    {
      "cell_type": "markdown",
      "metadata": {
        "id": "u-xxDrI126QR",
        "colab_type": "text"
      },
      "source": [
        "<h1><center><b>Compte-Rendu Intermediaire pour un problème de PCCC</b></center></h1>\n",
        "\n",
        "## **Bilan**\n",
        "A ce stade du projet, nous nous sommes intéréssés à un problème de PCCC dans un cadre restrint (contraintes portant sur la borne superieure+contraintes finales). Nous avons mis en place une class afin de modéliser nos graphes et générer des exemples, écrit une fonction qui résout notre problème de PCCC avec l'algorithme à correction d'étiquette et effectuer une modélisatioin par PLNE.\n",
        "### Objectif:\n",
        "Pour la suite du Projet, nous allons nous intérrésser à un cadre plus large :\n",
        "* contraintes à fenêtre de temps\n",
        "* contraintes avec une borne supérieur et une borne inférieur\n",
        "\n",
        "De plus nous allons aussi étudier la complexité de nos algorithmes.\n",
        "\n",
        "## **Formalisation du problème**\n",
        "\n",
        "Soit G = (V, A) un graphe orienté avec : \n",
        "\n",
        "*   |V | = n\n",
        "*   |A| = m\n",
        "\t\n",
        "Soit R un ensemble de ressources avec |R| = $n_r$.\n",
        "A chaque arc (i,j) de A, on associe un cout c<sub>i,j</sub>  (on suppose positif ) et un vecteur de consommation de ressource t<sub>i,j</sub>   de dimension $n_r$  \n",
        "On considère des contraintes de ressources finales portant uniquement sur la borne supérieure.\n",
        "\n",
        "**Objectif:**\n",
        "On cherche a trouver un chemin qui minimise le coût et dont la consommation de ressource (noté T) respecte les contraintes.\n",
        "\n",
        "\n",
        "\n",
        "\n",
        "\n",
        "\n"
      ]
    },
    {
      "cell_type": "markdown",
      "metadata": {
        "id": "MRDY0aeUt24D",
        "colab_type": "text"
      },
      "source": [
        "\n",
        "## Modélisation et génération du graphe\n",
        "Nous avons décidé de modéliser nos graphes à l'aide du paradigme de la Programmation Orienté Objet(POO). Vous pouvez voir ci-dessous la classe *Graphe* dont chaque instance contient les attributs **ressource** (liste contenant l'ensemble des ressources),**nb_ressource**,  **noeud**,**arc** (dictionnaire contenant l'ensemble des arcs avec leurs coût et leur consommation de ressource)\n"
      ]
    },
    {
      "cell_type": "code",
      "metadata": {
        "id": "sQMvHOCDtYxY",
        "colab_type": "code",
        "colab": {}
      },
      "source": [
        "import numpy as np\n",
        "\n",
        "\"\"\"\n",
        "    Modélisation d'un graphe : classe Graphe\n",
        "    Les arcs du graphes seront modélisé sous la forme d'un double-dictionnaire \n",
        "    arc[S1 : sommet origine][S2 : sommet but ] = vecteur \n",
        "    Si le vecteur existe, alors il y a un arc entre S1 et S2\n",
        "    Le vecteur sera de taille 1+R et représentera le vecteur cout et ressources de l'arc\n",
        "    vecteur[0] = cout de l'arc\n",
        "    vecteur[i] = Consommation ressource i sur l'arc ou i = [| 1 ; R |]\n",
        "    \n",
        "\"\"\"\n",
        "class Graphe:\n",
        "    nb_graph=0\n",
        "\n",
        "    #res = nom des ressources à considérer\n",
        "    def __init__(self,res=None):\n",
        "        self.arc={} #double dictionnaire \n",
        "        self.noeud=[] #noeud\n",
        "        if(type(res) is not list):\n",
        "          res=[res]\n",
        "        self.ressource=res # nom des ressources\n",
        "        #Nombre de ressource\n",
        "        if(res==[None]):\n",
        "          self.nb_ressources = 0\n",
        "        else:  \n",
        "          self.nb_ressources = len(res) \n",
        "        Graphe.nb_graph+=1\n",
        "    \n",
        "    #Fonction permettant d'ajouter une/des ressources\n",
        "    def ajout_ressource(self,nom_ress):\n",
        "      if (type(nom_ress) is not list):\n",
        "        nom_ress=[nom_ress]\n",
        "      for nom in nom_ress:\n",
        "        if(self.ressource==[None]):\n",
        "          self.ressource=[nom]\n",
        "        else: \n",
        "          self.ressource.append(nom)\n",
        "        self.nb_ressources+=1\n",
        "        for source in self.arc.keys():\n",
        "          for cible in self.arc[source].keys():\n",
        "           self.arc[source][cible]=np.append(self.arc[source][cible],0)\n",
        "        \n",
        "    #Fonction permettant l'ajout d'un/des sommet au graphe\n",
        "    def ajoutNoeud(self,sommet):\n",
        "      if (type(sommet) is not list):\n",
        "        sommet=[sommet]\n",
        "      for som in sommet:\n",
        "        if (som in self.noeud):\n",
        "          print('Le sommet ',som,' est déjà présent dans votre graph')\n",
        "        else:\n",
        "          self.noeud.append(som)\n",
        "    \n",
        "    #Fonction permettant l'ajout d'un/des arc entre 2 sommets\n",
        "    def ajoutArc(self,origin,dest,conso):\n",
        "        #conso = Cout de l'emprunt de l'arc et consommation des ressources\n",
        "        if(type(origin) is not list):\n",
        "          origin=[origin]\n",
        "        if(type(dest) is not list):\n",
        "          dest=[dest]\n",
        "        if (type(conso) is not list):\n",
        "          conso=[conso]\n",
        "        if(type(conso[0]) is not list):\n",
        "          conso=[conso]\n",
        "        for i in range(len(origin)):\n",
        "          if(len(conso[i])==self.nb_ressources+1):\n",
        "            if(origin[i] not in self.noeud):\n",
        "                self.ajoutNoeud(origin[i])\n",
        "            if(origin[i] not in self.arc.keys()):\n",
        "                self.arc[origin[i]]={}\n",
        "            if (dest[i] not in self.noeud):\n",
        "              self.ajoutNoeud(dest[i])\n",
        "            self.arc[origin[i]][dest[i]]=np.array(conso[i])\n",
        "          else:\n",
        "            print(\"Le vecteur conso de l'arc (\",origin[i],dest[i],\") n'a pas la bonne dimention. L'arc n'a donc pas été ajouté\") \n",
        "        \n",
        "    #Fonction retournant les predecesseurs d'un sommet sous forme de liste    \n",
        "    def predecesseurs(self,sommet):\n",
        "        liste_pred = []\n",
        "        for key in self.arc.keys():\n",
        "            if(sommet in self.arc[key].keys()):\n",
        "                liste_pred.append(key)  \n",
        "        return(liste_pred)\n",
        "        \n",
        "    #Fonction retournant les successeurs d'un sommet sous forme de liste\n",
        "    def successeurs(self,sommet):\n",
        "        liste_suc = []\n",
        "        for key in self.arc[sommet].keys():\n",
        "            liste_suc.append(key)\n",
        "        return(liste_suc)\n",
        "    \n",
        "    #Fonction affichant le graphe sous forme\n",
        "    # Sommet(nombre de successeurs) : [{successeur_i : vecteur conso }, ... ]\n",
        "    def affiche(self):\n",
        "        for key in self.arc.keys():\n",
        "            print(str(key)+\"(\"+str(len(self.arc[key]))+\"): [ \",end=\"\")\n",
        "            for cle in self.arc[key].keys():\n",
        "                print(\"{\"+str(cle)+\" : \"+str(self.arc[key][cle])+\" } ,\",end=\"\")\n",
        "            print(\"]\")\n"
      ],
      "execution_count": 0,
      "outputs": []
    },
    {
      "cell_type": "code",
      "metadata": {
        "id": "I770ZIAUlVTo",
        "colab_type": "code",
        "outputId": "952a7f02-03c7-4bea-e07d-139274c7a9d6",
        "colab": {
          "base_uri": "https://localhost:8080/",
          "height": 119
        }
      },
      "source": [
        "#Exemple d'utilisation\n",
        "g=Graphe()\n",
        "g.ajout_ressource(\"fatigue\")\n",
        "g.ajout_ressource([\"prix essence\",\"cris des enfants\"])\n",
        "g.ajoutNoeud(\"Paris\")\n",
        "g.ajoutNoeud([\"Berlin\",\"Tokyo\"])\n",
        "g.ajoutArc(\"Paris\",\"Berlin\",[1,2,3,4])\n",
        "g.ajoutArc([\"Berlin\",\"Tokyo\"],[\"Tokyo\",\"Tokyo\"],[[1,2,3,4],[4,3,2,1]])\n",
        "print(g.ressource)\n",
        "print(g.noeud)\n",
        "print(g.arc)\n",
        "g.affiche()"
      ],
      "execution_count": 73,
      "outputs": [
        {
          "output_type": "stream",
          "text": [
            "['fatigue', 'prix essence', 'cris des enfants']\n",
            "['Paris', 'Berlin', 'Tokyo']\n",
            "{'Paris': {'Berlin': array([1, 2, 3, 4])}, 'Berlin': {'Tokyo': array([1, 2, 3, 4])}, 'Tokyo': {'Tokyo': array([4, 3, 2, 1])}}\n",
            "Paris(1): [ {Berlin : [1 2 3 4] } ,]\n",
            "Berlin(1): [ {Tokyo : [1 2 3 4] } ,]\n",
            "Tokyo(1): [ {Tokyo : [4 3 2 1] } ,]\n"
          ],
          "name": "stdout"
        }
      ]
    },
    {
      "cell_type": "markdown",
      "metadata": {
        "id": "ERTAajZUuklQ",
        "colab_type": "text"
      },
      "source": [
        "## Résolution d'un problème de Plus Court Chemin avec Contraintes(PCCC)\n",
        "#### **Definition**\n",
        "\n",
        "* **Etiquette** : vecteur associé à un chemin et dont les coordonnées sont le coût et les consommations des différentes ressources.\n",
        "* **Orde de Pareto** : Une étiquette **E** domine **E'** ssi toute les cordonnées de E sont supérieur ou égale à celle de E' et qu’au moins une coordonnée de E est strictement supérieur à celle de E'.\n",
        "\n",
        "\n",
        "#### **Algorithme à correction d'étiquettes**\n",
        "On utilisera **l'algorithme à correction d'étiquettes**. \n",
        "On considère un graphe de source le sommet s et de puit le sommet t.\n",
        "A chaque sommet i on associe un ensemble d'étiquettes **E<sub>s,i</sub>** qui correspondes à des chemins entre la source et ce sommet.\n",
        "A l'initialisation, tous les ensembles **E<sub>s,i</sub>** sont vides car aucun chemin n'a été traité exépté **E<sub>s,s</sub>** qui vaut {0}.\n",
        "\n",
        "\n",
        "On condisere une liste **L** qui contient l'ensemble des sommet dont au moins une étiquette n'a pas encore été propagé. On met a jour **L** a chaque itération.\n",
        "  \n",
        "A chaque intération, on choisi un sommet de **L** et on propage ses étiquette à ses successeurs si cette propagation respecte les contraintes. On élimine ce sommet de **L**. On ajoute ainsi de nouvelles étiquettes à ses successeur sur lesquelles on effectuera un test de domination au sens de l'ordre de Pareto afin de ne conserver que les étiquettes non-dominées.\n",
        "Ce test assure que les **E<sub>s,i<sub>** sont Pareto-optimal et permet d'éventuellement **corriger** les étiquettes déjà existantes , d'où le nom de l'algorithme.\n",
        "\n",
        "A chaque fois qu'on crée une nouvelle étiquette qui est maintenu après le test de domination, le sommet qui lui correspond est ajouté à la liste **L**. L'algorithme s'arrête une fois que la liste est vide donc lorsque tous les sommets sont traités et que les propagations ne change plus les étiquettes.\n",
        "\n",
        "Sur tous les sommets et particulièrement en t, l'algorithme permet d'obtenir une ou plusieurs étiquettes non dominées  donc candidates comme solutions du problème.\n",
        "Etant donné que le but est de minimiser le cout de s à t, l'algorithme renvoie le chemin ayant le cout le plus faible en t. S'il y en a plusieurs, on en choisit un. \n",
        "Notons que dans cet algorithme, on calcule le plus court chemin contraint de s à tous les autres sommets du graphe.\n",
        "\n",
        "![Algorithme](https://drive.google.com/uc?id=1GNPnNF0-vO_jykku-rCmQeSDKuthGv9E)\n"
      ]
    },
    {
      "cell_type": "code",
      "metadata": {
        "id": "_6UZtGLqVkDL",
        "colab_type": "code",
        "colab": {}
      },
      "source": [
        "\"\"\" Création d'une fonction Pareto qui prend comme paramètre un ensemble d'étiquette \n",
        "(et argument facultatif correspondant aux prédécésseur de ces etiquette) et renvoie\n",
        "un ensemble Pareto minimale\n",
        "\"\"\"\n",
        "    \n",
        "def ordre_Pareto(arc1,arc2):\n",
        "    arc = arc1 - arc2\n",
        "    retour = None\n",
        "    if np.all(arc>=0)==True:\n",
        "        retour =np.array([arc2])\n",
        "    elif np.all(arc<0)==True:\n",
        "        retour = np.array([arc1.tolist()])\n",
        "    else:\n",
        "        retour = np.array([arc1,arc2])\n",
        "    return(retour)\n",
        "\n",
        "#Fonction qui permet de supprimer les doublons d'un ensemble d'étiquette avec leur prédécesseurs\n",
        "def supp_doublon(E,P):\n",
        "  #enleve les valeurs dupliques\n",
        "  uniq_value=np.unique(E,axis=0,return_index=True,return_counts=True)\n",
        "  if(P is not None):\n",
        "    P=P[uniq_value[1]]\n",
        "    doublons=uniq_value[0][uniq_value[2]>1]\n",
        "    for d in doublons:\n",
        "      succ_doub_ind=np.array([i for i, e in enumerate(E) if np.all(e==d)])\n",
        "      #Selectionne une etiquette aléatoirement correspondant au doublon d\n",
        "      choix=np.random.choice(succ_doub_ind)\n",
        "      #Supprimer les autres etiquette\n",
        "      suppression=succ_doub_ind[np.array(succ_doub_ind!=choix)]\n",
        "      conserver=np.array([i for i in range(len(P))])\n",
        "      conserver=conserver[[i for i in range(len(P)) if conserver[i] not in suppression]]\n",
        "      P=P[conserver]\n",
        "  E=uniq_value[0]\n",
        "  return([E,P])\n",
        "\n",
        "#Fonction renvoie l'ensemble Pareto optimal d'un ensemble d'étiquette avec leurs prédécesseur \n",
        "def Pareto(Etiq,Pred=None):\n",
        "   #Enleve les étiquettes dupliqués\n",
        "   [Etiq,Pred]=supp_doublon(Etiq,Pred)\n",
        "   #Conserve uniquement les element non dominés\n",
        "   i=0\n",
        "   while(i < len(Etiq)): \n",
        "     element1=Etiq[i]\n",
        "     j=0\n",
        "     while(j < len(Etiq)):\n",
        "       if(i!=j):\n",
        "        element2=Etiq[j]\n",
        "        test=ordre_Pareto(element1,element2)\n",
        "        if(len(test)==1):\n",
        "          supp=j if np.all(element1==test[0]) else i\n",
        "          Etiq=np.delete(Etiq,supp,axis=0)\n",
        "          if(Pred is not None):\n",
        "            Pred=np.delete(Pred,supp)\n",
        "       j+=1 \n",
        "     i+=1\n",
        "   resu=[Pred,Etiq] if Pred is not None else Etiq\n",
        "   return(resu) \n"
      ],
      "execution_count": 0,
      "outputs": []
    },
    {
      "cell_type": "code",
      "metadata": {
        "id": "LL_JW_KRmKFk",
        "colab_type": "code",
        "outputId": "4fdb5305-c688-4599-fe32-fd0b5c94697e",
        "colab": {
          "base_uri": "https://localhost:8080/",
          "height": 104
        }
      },
      "source": [
        "# Exemple d'utilisation\n",
        "E=np.array([[20,12,21,12],\n",
        "            [27,10,9,12],\n",
        "            [30,15,11,20],\n",
        "            [32,9,10,10],\n",
        "            [35,14,11,18]])\n",
        "P=np.array([\"A\",\"B\",\"C\",\"D\",\"E\"])\n",
        "\n",
        "P=np.array(['Contrer la rebellion des otages', \"Contrer l'assaut de la police\",'Voler le coffre fort'],dtype='<U31')\n",
        "E=np.array([[32., 18., 20., 19.],[51., 15., 21., 16.],[18.,  3., 10., 10.]])\n",
        "\n",
        "supp_doublon(E,P)\n"
      ],
      "execution_count": 0,
      "outputs": [
        {
          "output_type": "execute_result",
          "data": {
            "text/plain": [
              "[array([[18.,  3., 10., 10.],\n",
              "        [32., 18., 20., 19.],\n",
              "        [51., 15., 21., 16.]]),\n",
              " array(['Voler le coffre fort', 'Contrer la rebellion des otages',\n",
              "        \"Contrer l'assaut de la police\"], dtype='<U31')]"
            ]
          },
          "metadata": {
            "tags": []
          },
          "execution_count": 131
        }
      ]
    },
    {
      "cell_type": "code",
      "metadata": {
        "id": "6A_WqUKQpc8N",
        "colab_type": "code",
        "colab": {}
      },
      "source": [
        "\"\"\" Algorithme à correction d'étiquettes \n",
        "\"\"\"\n",
        "\n",
        "#Fonction qui renvoie le plus court chemin dans l'algorithme à correstion d'etiquette\n",
        "def PCC(E,source=\"s\",puit=\"t\"):\n",
        "  chemin=[puit]\n",
        "  #etiquette du puit correspondant au chemin qui minimise le cout\n",
        "  cout_mini_chemin=E[puit][1][::,0]==min(E[puit][1][::,0])\n",
        "  pred=E[puit][0][cout_mini_chemin][0]\n",
        "  chemin.append(pred)\n",
        "  #remonte les etiquettes du puit jusqu'a la source pour construire le chemin\n",
        "  while pred!=source:\n",
        "    cout_mini=E[pred][1][::,0]==min(E[pred][1][::,0])\n",
        "    pred=E[pred][0][cout_mini][0]\n",
        "    chemin.append(pred)\n",
        "  return([chemin[::-1],E[puit][1][cout_mini_chemin]])\n",
        "\n",
        "#Fonction correspondant a l'algorithme a correction d'etiquette\n",
        "def correc_etiquette(g,contraintes,source=\"s\",puit=\"t\"):\n",
        "  if(source not in g.noeud or puit not in g.noeud):\n",
        "    print(\"Erreur: votre source ou votre puit ne figurent pas parmi les sommets de votre graph\")\n",
        "    return(-1)\n",
        "  #Initialisation\n",
        "  List=[source]\n",
        "  Etiq={noeud: [] for noeud in g.noeud}\n",
        "  Etiq[source]=[np.array([source]),np.array([np.zeros(g.nb_ressources+1)])]\n",
        "  while(len(List)!=0):\n",
        "    i=np.random.choice(List)\n",
        "    List.remove(i)\n",
        "    if(i in g.arc.keys()):\n",
        "      for j in g.successeurs(i):\n",
        "        for k in range(len(Etiq[i][1])):\n",
        "          E=Etiq[i][1][k]\n",
        "          if(np.all(g.arc[i][j][1:len(g.arc[i][j])]+E[1:len(E)]<=contraintes)):\n",
        "            E2=g.arc[i][j]+E\n",
        "            if(j=='Iles Caraibes'):\n",
        "              print(Etiq[j])\n",
        "            if len(Etiq[j])==0:\n",
        "              Etiq[j]=[np.array([i]),np.array([E2])]\n",
        "            else:\n",
        "              Etiq[j][1]=np.append(Etiq[j][1],np.array([E2]),axis=0)\n",
        "              Etiq[j][0]=np.append(Etiq[j][0],i)\n",
        "            if(j=='Iles Caraibes'):\n",
        "              print(Etiq[j])\n",
        "            Etiq[j]=Pareto(Etiq[j][1],Etiq[j][0])\n",
        "            if(j=='Iles Caraibes'):\n",
        "              print(Etiq[j])\n",
        "            if(E2 in Etiq[j][1]):\n",
        "              List.append(j)\n",
        "  print(Etiq)\n",
        "  return(PCC(Etiq,source=source,puit=puit))\n"
      ],
      "execution_count": 0,
      "outputs": []
    },
    {
      "cell_type": "markdown",
      "metadata": {
        "id": "5D37EqRxAJ7H",
        "colab_type": "text"
      },
      "source": [
        "#### **Exemple de résolution**\n",
        "\n",
        "Un jeune politicien, Paul Politics, a pour objectif de se présenter aux prochaines élections. Sauf surprise, il est assuré de gagner. Cependant, il sait également que la vie d'un politicien classique se termine lorsqu'il finit \"déchu\", n'ayant plus le soutien de la population. \n",
        "Entre le début de la campagne et sa certaine déchéance, son objectif est de minimiser l'argent investi tout en ayant des contraintes sur 3 ressources : le nombre de ses collaborateurs, son énergie dépensée (son niveau d'implication), la distance parcourue en déplacement.\n",
        "Entre le debut de sa campagne et sa decheance, il peut passer par certaines étapes qui seront les sommets de notre graphe : la source sera donc le debut de la campagne et le puit la decheance.\n",
        "\n"
      ]
    },
    {
      "cell_type": "code",
      "metadata": {
        "id": "BB_GDaHaCg4X",
        "colab_type": "code",
        "outputId": "847a544c-921d-4077-cbc1-9cd6972e1804",
        "colab": {
          "base_uri": "https://localhost:8080/",
          "height": 357
        }
      },
      "source": [
        "Paul = Graphe()\n",
        "Paul.ajout_ressource([\"nb_colab\",\"distance\",\"energie\"])\n",
        "Paul.ajoutNoeud([\"Debut\",\"Meetings\",\"Conferences\",\"Financement\",\"Corruption\",\"Demagogie\",\"Election\",\"Decheance\"])\n",
        "Paul.ajoutArc([\"Debut\",\"Debut\",\"Debut\",\"Financement\",\"Conferences\",\"Conferences\",\"Meetings\",\"Corruption\",\"Corruption\",\"Demagogie\",\"Election\"],\n",
        "              [\"Meetings\",\"Conferences\",\"Financement\",\"Conferences\",\"Corruption\",\"Demagogie\",\"Corruption\",\"Election\",\"Decheance\",\"Election\",\"Decheance\"],\n",
        "              [[15,1,3,4],[10,1,4,5],[8,2,6,5],[4,5,6,2],[20,2,0,1],[2,3,9,1],[10,3,0,4],[1,6,2,8],[2,6,6,4],[4,3,2,2],[4,5,6,4]])\n",
        "\n",
        "\"\"\"Vecteur consommation max de ressources \n",
        "1 - Pas plus de 12  collaborateurs\n",
        "2-  Pas plus de 20 unités d'energie\n",
        "3-  Une distance inférieure à 15 unités\"\"\"\n",
        "conso = np.array([12,20,15])\n",
        "parcours = correc_etiquette(Paul,conso,\"Debut\",\"Decheance\")\n",
        "print(parcours)"
      ],
      "execution_count": 426,
      "outputs": [
        {
          "output_type": "error",
          "ename": "IndexError",
          "evalue": "ignored",
          "traceback": [
            "\u001b[0;31m---------------------------------------------------------------------------\u001b[0m",
            "\u001b[0;31mIndexError\u001b[0m                                Traceback (most recent call last)",
            "\u001b[0;32m<ipython-input-426-38d73cc2920a>\u001b[0m in \u001b[0;36m<module>\u001b[0;34m()\u001b[0m\n\u001b[1;32m     11\u001b[0m 3-  Une distance inférieure à 15 unités\"\"\"\n\u001b[1;32m     12\u001b[0m \u001b[0mconso\u001b[0m \u001b[0;34m=\u001b[0m \u001b[0mnp\u001b[0m\u001b[0;34m.\u001b[0m\u001b[0marray\u001b[0m\u001b[0;34m(\u001b[0m\u001b[0;34m[\u001b[0m\u001b[0;36m12\u001b[0m\u001b[0;34m,\u001b[0m\u001b[0;36m20\u001b[0m\u001b[0;34m,\u001b[0m\u001b[0;36m15\u001b[0m\u001b[0;34m]\u001b[0m\u001b[0;34m)\u001b[0m\u001b[0;34m\u001b[0m\u001b[0;34m\u001b[0m\u001b[0m\n\u001b[0;32m---> 13\u001b[0;31m \u001b[0mparcours\u001b[0m \u001b[0;34m=\u001b[0m \u001b[0mcorrec_etiquette\u001b[0m\u001b[0;34m(\u001b[0m\u001b[0mPaul\u001b[0m\u001b[0;34m,\u001b[0m\u001b[0mconso\u001b[0m\u001b[0;34m,\u001b[0m\u001b[0;34m\"Debut\"\u001b[0m\u001b[0;34m,\u001b[0m\u001b[0;34m\"Decheance\"\u001b[0m\u001b[0;34m)\u001b[0m\u001b[0;34m\u001b[0m\u001b[0;34m\u001b[0m\u001b[0m\n\u001b[0m\u001b[1;32m     14\u001b[0m \u001b[0mprint\u001b[0m\u001b[0;34m(\u001b[0m\u001b[0mparcours\u001b[0m\u001b[0;34m)\u001b[0m\u001b[0;34m\u001b[0m\u001b[0;34m\u001b[0m\u001b[0m\n",
            "\u001b[0;32m<ipython-input-341-465453acf510>\u001b[0m in \u001b[0;36mcorrec_etiquette\u001b[0;34m(g, contraintes, source, puit)\u001b[0m\n\u001b[1;32m     43\u001b[0m             \u001b[0;32mif\u001b[0m\u001b[0;34m(\u001b[0m\u001b[0mj\u001b[0m\u001b[0;34m==\u001b[0m\u001b[0;34m'Iles Caraibes'\u001b[0m\u001b[0;34m)\u001b[0m\u001b[0;34m:\u001b[0m\u001b[0;34m\u001b[0m\u001b[0;34m\u001b[0m\u001b[0m\n\u001b[1;32m     44\u001b[0m               \u001b[0mprint\u001b[0m\u001b[0;34m(\u001b[0m\u001b[0mEtiq\u001b[0m\u001b[0;34m[\u001b[0m\u001b[0mj\u001b[0m\u001b[0;34m]\u001b[0m\u001b[0;34m)\u001b[0m\u001b[0;34m\u001b[0m\u001b[0;34m\u001b[0m\u001b[0m\n\u001b[0;32m---> 45\u001b[0;31m             \u001b[0mEtiq\u001b[0m\u001b[0;34m[\u001b[0m\u001b[0mj\u001b[0m\u001b[0;34m]\u001b[0m\u001b[0;34m=\u001b[0m\u001b[0mPareto\u001b[0m\u001b[0;34m(\u001b[0m\u001b[0mEtiq\u001b[0m\u001b[0;34m[\u001b[0m\u001b[0mj\u001b[0m\u001b[0;34m]\u001b[0m\u001b[0;34m[\u001b[0m\u001b[0;36m1\u001b[0m\u001b[0;34m]\u001b[0m\u001b[0;34m,\u001b[0m\u001b[0mEtiq\u001b[0m\u001b[0;34m[\u001b[0m\u001b[0mj\u001b[0m\u001b[0;34m]\u001b[0m\u001b[0;34m[\u001b[0m\u001b[0;36m0\u001b[0m\u001b[0;34m]\u001b[0m\u001b[0;34m)\u001b[0m\u001b[0;34m\u001b[0m\u001b[0;34m\u001b[0m\u001b[0m\n\u001b[0m\u001b[1;32m     46\u001b[0m             \u001b[0;32mif\u001b[0m\u001b[0;34m(\u001b[0m\u001b[0mj\u001b[0m\u001b[0;34m==\u001b[0m\u001b[0;34m'Iles Caraibes'\u001b[0m\u001b[0;34m)\u001b[0m\u001b[0;34m:\u001b[0m\u001b[0;34m\u001b[0m\u001b[0;34m\u001b[0m\u001b[0m\n\u001b[1;32m     47\u001b[0m               \u001b[0mprint\u001b[0m\u001b[0;34m(\u001b[0m\u001b[0mEtiq\u001b[0m\u001b[0;34m[\u001b[0m\u001b[0mj\u001b[0m\u001b[0;34m]\u001b[0m\u001b[0;34m)\u001b[0m\u001b[0;34m\u001b[0m\u001b[0;34m\u001b[0m\u001b[0m\n",
            "\u001b[0;32m<ipython-input-325-d430de83f0dc>\u001b[0m in \u001b[0;36mPareto\u001b[0;34m(Etiq, Pred)\u001b[0m\n\u001b[1;32m     37\u001b[0m \u001b[0;32mdef\u001b[0m \u001b[0mPareto\u001b[0m\u001b[0;34m(\u001b[0m\u001b[0mEtiq\u001b[0m\u001b[0;34m,\u001b[0m\u001b[0mPred\u001b[0m\u001b[0;34m=\u001b[0m\u001b[0;32mNone\u001b[0m\u001b[0;34m)\u001b[0m\u001b[0;34m:\u001b[0m\u001b[0;34m\u001b[0m\u001b[0;34m\u001b[0m\u001b[0m\n\u001b[1;32m     38\u001b[0m    \u001b[0;31m#Enleve les étiquettes dupliqués\u001b[0m\u001b[0;34m\u001b[0m\u001b[0;34m\u001b[0m\u001b[0;34m\u001b[0m\u001b[0m\n\u001b[0;32m---> 39\u001b[0;31m    \u001b[0;34m[\u001b[0m\u001b[0mEtiq\u001b[0m\u001b[0;34m,\u001b[0m\u001b[0mPred\u001b[0m\u001b[0;34m]\u001b[0m\u001b[0;34m=\u001b[0m\u001b[0msupp_doublon\u001b[0m\u001b[0;34m(\u001b[0m\u001b[0mEtiq\u001b[0m\u001b[0;34m,\u001b[0m\u001b[0mPred\u001b[0m\u001b[0;34m)\u001b[0m\u001b[0;34m\u001b[0m\u001b[0;34m\u001b[0m\u001b[0m\n\u001b[0m\u001b[1;32m     40\u001b[0m    \u001b[0;31m#Conserve uniquement les element non dominés\u001b[0m\u001b[0;34m\u001b[0m\u001b[0;34m\u001b[0m\u001b[0;34m\u001b[0m\u001b[0m\n\u001b[1;32m     41\u001b[0m    \u001b[0mi\u001b[0m\u001b[0;34m=\u001b[0m\u001b[0;36m0\u001b[0m\u001b[0;34m\u001b[0m\u001b[0;34m\u001b[0m\u001b[0m\n",
            "\u001b[0;32m<ipython-input-325-d430de83f0dc>\u001b[0m in \u001b[0;36msupp_doublon\u001b[0;34m(E, P)\u001b[0m\n\u001b[1;32m     20\u001b[0m   \u001b[0muniq_value\u001b[0m\u001b[0;34m=\u001b[0m\u001b[0mnp\u001b[0m\u001b[0;34m.\u001b[0m\u001b[0munique\u001b[0m\u001b[0;34m(\u001b[0m\u001b[0mE\u001b[0m\u001b[0;34m,\u001b[0m\u001b[0maxis\u001b[0m\u001b[0;34m=\u001b[0m\u001b[0;36m0\u001b[0m\u001b[0;34m,\u001b[0m\u001b[0mreturn_index\u001b[0m\u001b[0;34m=\u001b[0m\u001b[0;32mTrue\u001b[0m\u001b[0;34m,\u001b[0m\u001b[0mreturn_counts\u001b[0m\u001b[0;34m=\u001b[0m\u001b[0;32mTrue\u001b[0m\u001b[0;34m)\u001b[0m\u001b[0;34m\u001b[0m\u001b[0;34m\u001b[0m\u001b[0m\n\u001b[1;32m     21\u001b[0m   \u001b[0;32mif\u001b[0m\u001b[0;34m(\u001b[0m\u001b[0mP\u001b[0m \u001b[0;32mis\u001b[0m \u001b[0;32mnot\u001b[0m \u001b[0;32mNone\u001b[0m\u001b[0;34m)\u001b[0m\u001b[0;34m:\u001b[0m\u001b[0;34m\u001b[0m\u001b[0;34m\u001b[0m\u001b[0m\n\u001b[0;32m---> 22\u001b[0;31m     \u001b[0mP\u001b[0m\u001b[0;34m=\u001b[0m\u001b[0mP\u001b[0m\u001b[0;34m[\u001b[0m\u001b[0muniq_value\u001b[0m\u001b[0;34m[\u001b[0m\u001b[0;36m1\u001b[0m\u001b[0;34m]\u001b[0m\u001b[0;34m]\u001b[0m\u001b[0;34m\u001b[0m\u001b[0;34m\u001b[0m\u001b[0m\n\u001b[0m\u001b[1;32m     23\u001b[0m     \u001b[0mdoublons\u001b[0m\u001b[0;34m=\u001b[0m\u001b[0muniq_value\u001b[0m\u001b[0;34m[\u001b[0m\u001b[0;36m0\u001b[0m\u001b[0;34m]\u001b[0m\u001b[0;34m[\u001b[0m\u001b[0muniq_value\u001b[0m\u001b[0;34m[\u001b[0m\u001b[0;36m2\u001b[0m\u001b[0;34m]\u001b[0m\u001b[0;34m>\u001b[0m\u001b[0;36m1\u001b[0m\u001b[0;34m]\u001b[0m\u001b[0;34m\u001b[0m\u001b[0;34m\u001b[0m\u001b[0m\n\u001b[1;32m     24\u001b[0m     \u001b[0;32mfor\u001b[0m \u001b[0md\u001b[0m \u001b[0;32min\u001b[0m \u001b[0mdoublons\u001b[0m\u001b[0;34m:\u001b[0m\u001b[0;34m\u001b[0m\u001b[0;34m\u001b[0m\u001b[0m\n",
            "\u001b[0;31mIndexError\u001b[0m: index 1 is out of bounds for axis 0 with size 1"
          ]
        }
      ]
    },
    {
      "cell_type": "code",
      "metadata": {
        "id": "IVszxHOxGyhg",
        "colab_type": "code",
        "outputId": "843e0be5-2c16-41e1-fa50-6dc39a3f2c8d",
        "colab": {
          "base_uri": "https://localhost:8080/",
          "height": 367
        }
      },
      "source": [
        "G=Graphe()\n",
        "G.ajout_ressource([\"otages morts\",\"camarades morts\",\"frais\"])\n",
        "G.ajoutNoeud([\"La Casa de Papel\",\"Imprimer des billets\",\"Negocier avec la police\",\"Faire travailler les otages\",\"Enfermer les otages\",\"Corrompre la police\",\"Contrer l'assaut de la police\",\"Contrer la rebellion des otages\",\"Voler le coffre fort\",\"Iles Caraibes\"])\n",
        "G.ajoutArc([\"La Casa de Papel\",\"La Casa de Papel\",\"Voler le coffre fort\",\"Imprimer des billets\",\"Negocier avec la police\",\"Negocier avec la police\",\"Enfermer les otages\",\"Contrer la rebellion des otages\",\"Faire travailler les otages\",\"Corrompre la police\",\"Faire travailler les otages\",\"Contrer l'assaut de la police\"],\n",
        "           [\"Imprimer des billets\",\"Voler le coffre fort\",\"Iles Caraibes\",\"Negocier avec la police\",\"Faire travailler les otages\",\"Enfermer les otages\",\"Contrer la rebellion des otages\",\"Iles Caraibes\",\"Corrompre la police\",\"Iles Caraibes\",\"Contrer l'assaut de la police\",\"Iles Caraibes\"],\n",
        "           [[15,1,3,4],[10,1,4,5],[8,2,6,5],[4,5,6,2],[20,2,0,1],[2,3,9,1],[10,3,0,4],[1,6,2,8],[2,6,6,4],[4,3,2,2],[4,5,6,4],[8,2,6,5]])\n",
        "conso = np.array([100,100,100])\n",
        "parcours = correc_etiquette(G,conso,\"La Casa de Papel\",\"Iles Caraibes\")\n",
        "print(parcours)"
      ],
      "execution_count": 0,
      "outputs": [
        {
          "output_type": "stream",
          "text": [
            "[]\n",
            "[array(['Voler le coffre fort'], dtype='<U20'), array([[18.,  3., 10., 10.]])]\n",
            "[array(['Voler le coffre fort'], dtype='<U20'), array([[18.,  3., 10., 10.]])]\n",
            "[array(['Voler le coffre fort'], dtype='<U20'), array([[18.,  3., 10., 10.]])]\n",
            "[array(['Voler le coffre fort', \"Contrer l'assaut de la police\"],\n",
            "      dtype='<U29'), array([[18.,  3., 10., 10.],\n",
            "       [51., 15., 21., 16.]])]\n",
            "[array(['Voler le coffre fort'], dtype='<U29'), array([[18.,  3., 10., 10.]])]\n",
            "[array(['Voler le coffre fort'], dtype='<U29'), array([[18.,  3., 10., 10.]])]\n",
            "[array(['Voler le coffre fort', 'Contrer la rebellion des otages'],\n",
            "      dtype='<U31'), array([[18.,  3., 10., 10.],\n",
            "       [32., 18., 20., 19.]])]\n",
            "[array(['Voler le coffre fort'], dtype='<U31'), array([[18.,  3., 10., 10.]])]\n",
            "[array(['Voler le coffre fort'], dtype='<U31'), array([[18.,  3., 10., 10.]])]\n",
            "[array(['Voler le coffre fort', 'Corrompre la police'], dtype='<U31'), array([[18.,  3., 10., 10.],\n",
            "       [45., 17., 17., 13.]])]\n",
            "[array(['Voler le coffre fort'], dtype='<U31'), array([[18.,  3., 10., 10.]])]\n",
            "{'La Casa de Papel': [array(['La Casa de Papel'], dtype='<U16'), array([[0., 0., 0., 0.]])], 'Imprimer des billets': [array(['La Casa de Papel'], dtype='<U16'), array([[15.,  1.,  3.,  4.]])], 'Negocier avec la police': [array(['Imprimer des billets'], dtype='<U20'), array([[19.,  6.,  9.,  6.]])], 'Faire travailler les otages': [array(['Negocier avec la police'], dtype='<U23'), array([[39.,  8.,  9.,  7.]])], 'Enfermer les otages': [array(['Negocier avec la police'], dtype='<U23'), array([[21.,  9., 18.,  7.]])], 'Corrompre la police': [array(['Faire travailler les otages'], dtype='<U27'), array([[41., 14., 15., 11.]])], \"Contrer l'assaut de la police\": [array(['Faire travailler les otages'], dtype='<U27'), array([[43., 13., 15., 11.]])], 'Contrer la rebellion des otages': [array(['Enfermer les otages'], dtype='<U19'), array([[31., 12., 18., 11.]])], 'Voler le coffre fort': [array(['La Casa de Papel'], dtype='<U16'), array([[10.,  1.,  4.,  5.]])], 'Iles Caraibes': [array(['Voler le coffre fort'], dtype='<U31'), array([[18.,  3., 10., 10.]])]}\n",
            "[['La Casa de Papel', 'Voler le coffre fort', 'Iles Caraibes'], array([[18.,  3., 10., 10.]])]\n"
          ],
          "name": "stdout"
        }
      ]
    },
    {
      "cell_type": "markdown",
      "metadata": {
        "id": "8K4SC72saXOh",
        "colab_type": "text"
      },
      "source": [
        "# Résolution par PuLP du modèle de PLNE"
      ]
    },
    {
      "cell_type": "code",
      "metadata": {
        "id": "2Xl_pRc5aaUY",
        "colab_type": "code",
        "outputId": "5f67a7c0-77db-4d94-9cde-79a67952cee7",
        "colab": {
          "base_uri": "https://localhost:8080/",
          "height": 52
        }
      },
      "source": [
        "!pip install pulp\n",
        "from pulp import *\n",
        "prob = LpProblem(\"PLNE\", LpMinimize)"
      ],
      "execution_count": 0,
      "outputs": [
        {
          "output_type": "stream",
          "text": [
            "Requirement already satisfied: pulp in /usr/local/lib/python3.6/dist-packages (2.1)\n",
            "Requirement already satisfied: pyparsing>=2.0.1 in /usr/local/lib/python3.6/dist-packages (from pulp) (2.4.6)\n"
          ],
          "name": "stdout"
        }
      ]
    },
    {
      "cell_type": "markdown",
      "metadata": {
        "id": "NhYrZLjRada7",
        "colab_type": "text"
      },
      "source": [
        "\n",
        "Ici, on s'intéressera à la modélisation en PLNE du problème de PCCC (Plus Court Chemin avec Contraintes de ressources). Le problème a été formalisé en première partie du notebook. On cherche le plus court chemin de s à t en respectant les contraintes de ressources.\n",
        "\n",
        "\n",
        "**Variables**  \n",
        "Pour tout $a \\in A$ : $x_{a} \\in ${$0,1$}$ = 1 $ si et seulement si $a$ est dans le chemin choisi  \n",
        "\n",
        "**Objectif**  \n",
        "Minimiser le coût du chemin:  \n",
        "$ {min} \\sum \\limits_{{a \\in A}} c_a*x_a $\n",
        "\n",
        "**Contraintes**  \n",
        "Conservation du flot:  $ \\forall i \\ne s,t $ on a  $ \\sum \\limits_{(i,j)\\in \\delta^+(i)} x_{ij} = \\sum \\limits_{(j,i)\\in \\delta^-(i)} x_{ji}   $\n",
        "\n",
        "Flot entrant de t:  $ \\sum \\limits_{(i,t) \\in \\delta^-(t)} x_{it} = 1 $  \n",
        "Flot sortant de s:  $ \\sum \\limits_{(s,i) \\in \\delta^+(s)} x_{si} = 1 $  \n",
        "Contraintes de ressources sur les chemins:\n",
        "$ \\forall r\\in ${$1,2,\\dots, n_r $}, $\\sum \\limits_{a \\in A} t^r_a*x_a \\le b^r$ où $b^r$ est la consommation maximale de la ressource $r$.\n",
        "\n",
        "\n",
        "\n",
        "\n"
      ]
    },
    {
      "cell_type": "code",
      "metadata": {
        "id": "q8B9NUYuaesd",
        "colab_type": "code",
        "colab": {}
      },
      "source": [
        "\"\"\"\n",
        "On effectue un test avec 2 ressources et un graphe quelconque\"\"\"\n",
        "graphe = Graphe()\n",
        "graphe.ajout_ressource([\"r1\",\"r2\"])\n",
        "graphe.ajoutNoeud([0,1,2,3,4,5])\n",
        "graphe.ajoutArc([0,0,1,1,2,2,3,3,4,4],\n",
        "                [1,2,4,3,1,3,4,5,2,5],\n",
        "                [[7,6,5],[4,3,2],[6,11,5],[8,10,4],[7,3,3],[9,4,2],[6,7,2],[7,5,4],[3,2,1],[3,4,3]])\n",
        "\n",
        "\"\"\"Ici, la source sera le sommet 0 et 5 le sommet puit\"\"\"\n",
        "b = [24,12]\n",
        "\n",
        "#Modelisation du probleme\n",
        "prob = LpProblem(\"PLNE\", LpMinimize)\n",
        "#Recupération des coûts associés à chaque arc, cout nul si arc non existant:\n",
        "couts={}\n",
        "for key1 in graphe.noeud:\n",
        "  couts[key1]={}\n",
        "  for key2 in graphe.noeud:\n",
        "    if key1 in graphe.arc.keys():\n",
        "      if key2 in graphe.arc[key1].keys():\n",
        "        couts[key1][key2]=graphe.arc[key1][key2][0]\n",
        "      else:\n",
        "        couts[key1][key2] = 0\n",
        "    else:\n",
        "      couts[key1][key2]=0\n",
        "\n",
        "#Pareil pour les 2 ressources\n",
        "r1={}\n",
        "for key1 in graphe.noeud:\n",
        "  r1[key1]={}\n",
        "  for key2 in graphe.noeud:\n",
        "    if key1 in graphe.arc.keys():\n",
        "      if key2 in graphe.arc[key1].keys():\n",
        "        r1[key1][key2]=graphe.arc[key1][key2][1]\n",
        "      else:\n",
        "        r1[key1][key2] = 0\n",
        "    else:\n",
        "      r1[key1][key2]=0\n",
        "\n",
        "r2={}\n",
        "for key1 in graphe.noeud:\n",
        "  r2[key1]={}\n",
        "  for key2 in graphe.noeud:\n",
        "    if key1 in graphe.arc.keys():\n",
        "      if key2 in graphe.arc[key1].keys():\n",
        "        r2[key1][key2]=graphe.arc[key1][key2][2]\n",
        "      else:\n",
        "        r2[key1][key2] = 0\n",
        "    else:\n",
        "      r2[key1][key2]=0\n",
        "############################Variables#################################\n",
        "lignes = [e for e in graphe.noeud]\n",
        "x = LpVariable.matrix(\"x\",(lignes,lignes),0,1,LpInteger)\n",
        "\n",
        "############################Objectif##################################\n",
        "prob+=lpSum([lpSum([x[i][j]*couts[i][j] for i in graphe.noeud]) for j in graphe.noeud])\n",
        "\n",
        "###########################Contraintes################################ \n",
        "#Conservation du flot\n",
        "for i in [e for e in graphe.noeud if e!=0 and e!=5 ]:\n",
        "  prob+=lpSum([x[i][j] for j in graphe.successeurs(i)])==lpSum([x[j][i] for j in graphe.predecesseurs(i)])\n",
        "#Flot sortant de la source et flot sortant du puit égal à 1\n",
        "prob+=lpSum([x[0][j] for j in graphe.successeurs(0)])==1\n",
        "prob+=lpSum([x[j][5] for j in graphe.predecesseurs(5)])==1\n",
        "#Contraintes de ressources finales\n",
        "#Ressource1\n",
        "prob+=lpSum([lpSum([x[key1][key2]*r1[key1][key2] for key1 in graphe.noeud]) for key2 in  graphe.noeud]) <=b[0]\n",
        "#Ressource2\n",
        "prob+=lpSum([lpSum([x[key1][key2]*r2[key1][key2] for key1 in graphe.noeud]) for key2 in  graphe.noeud]) <=b[1]\n",
        "#Si un arc 'a' n'existe pas, x[a] = 0\n",
        "for i in range(len(graphe.noeud)):\n",
        "  if i not in graphe.arc.keys():\n",
        "    for j in range(len(graphe.noeud)):\n",
        "      prob+=x[i][j]==0\n",
        "  else:\n",
        "    for j in range(len(graphe.noeud)):\n",
        "      if j not in graphe.arc[i].keys():\n",
        "        prob+=x[i][j]==0\n",
        "  \n",
        "######################### Resolution ###########################################\n",
        "\n",
        "#Affichage du modèle\n",
        "prob.writeLP(\"furniture.lp\")\n",
        "print(prob)\n",
        "#Résolution du modèle de PLNE\n",
        "prob.solve()\n",
        "print(\"Status:\", LpStatus[prob.status])\n",
        "# On affiche le chemin\n",
        "print(\"-------------------------------------------------------------\")\n",
        "print(\"Affichage des résultats\")\n",
        "for v in prob.variables():\n",
        "    if(v.varValue!=0):\n",
        "      print(v.name, \"=\", v.varValue)\n",
        "# The optimised objective function value is printed to the screen    \n",
        "print(\"Cout minimal = \", value(prob.objective))"
      ],
      "execution_count": 0,
      "outputs": []
    },
    {
      "cell_type": "markdown",
      "metadata": {
        "id": "98mSm1Iu6WzW",
        "colab_type": "text"
      },
      "source": [
        "# **Etude empirique de la complexite des méthodes**  \n",
        "Dans cette partie, on s'intéresse à l'analyse de la complexité des différentes méthodes utilisees. Pour ce faire, on code une fonction qui génèrera des graphes aleatoires de diverses tailles.\n",
        "\n",
        "\n",
        "\n"
      ]
    },
    {
      "cell_type": "code",
      "metadata": {
        "id": "4lFb6lWJ7s6a",
        "colab_type": "code",
        "colab": {
          "base_uri": "https://localhost:8080/",
          "height": 173
        },
        "outputId": "c7e2a589-acbf-4224-dcfd-f20dca6257b9"
      },
      "source": [
        "import random as r\n",
        "import math\n",
        "def graphe_alea(nb_sommets,proba=0.7): #proba = probabilité de generer un arc\n",
        "  graphe=Graphe(res=[\"R1\",\"R2\"])\n",
        "  graphe.ajoutNoeud([i for i in range(nb_sommets+1)])\n",
        "  source=0;puit=nb_sommets\n",
        "  if(proba<=0 or proba>=1):\n",
        "    print(\"La proba doit être strictement comprise entre 0 et 1\")\n",
        "  else:\n",
        "    #Creation chemin entre source et puit\n",
        "    s1=source\n",
        "    s2=r.randint(source,nb_sommets-1)\n",
        "    while(s2!=puit):\n",
        "      s1=s2\n",
        "      s2=r.randint(source,nb_sommets)\n",
        "      if(s1!=s2): #On evite les boucles sur les sommets\n",
        "        conso = [r.randint(0,10),r.randint(0,20),r.randint(0,20)]\n",
        "        graphe.ajoutArc(s1,s2,conso)\n",
        "      else:\n",
        "        s2+=1\n",
        "        conso = [r.randint(0,10),r.randint(0,20),r.randint(0,20)]\n",
        "        graphe.ajoutArc(s1,s2,conso)\n",
        "      if(s2==puit):\n",
        "        conso = [r.randint(0,10),r.randint(0,20),r.randint(0,20)]\n",
        "        graphe.ajoutArc(s1,s2,conso)\n",
        "    #Generation d'arcs aleatoires entre les différents sommets\n",
        "    \"\"\"Inspire de fast_gnp_random_graph de Networkx\"\"\"\n",
        "    lp = math.log(1-proba)\n",
        "    s1=source\n",
        "    while(s1!=puit):\n",
        "      s2 = r.randint(source,puit)\n",
        "      if(s1==s2):\n",
        "        s2+=1\n",
        "      lr=math.log(1-r.random())\n",
        "      if(lr>=lp):\n",
        "        if(s1!=s2):\n",
        "          conso = [r.randint(0,10),r.randint(0,20),r.randint(0,20)]\n",
        "          graphe.ajoutArc(s1,s2,conso)\n",
        "      else:\n",
        "        s1+=1\n",
        "\n",
        "  return(graphe)\n",
        "\n",
        "###########################Tests de la fonction################################\n",
        "\n",
        "G1=graphe_alea(5)\n",
        "G1.affiche()\n",
        "pk = correc_etiquette(G1,np.array([50,50]),0,5)\n",
        "\n",
        "\n",
        "\n",
        "\n",
        "\n",
        "  \n",
        "\n",
        "\n",
        "\n",
        "\n",
        "\n"
      ],
      "execution_count": 445,
      "outputs": [
        {
          "output_type": "stream",
          "text": [
            "0(4): [ {4 : [ 4 14  7] } ,{2 : [8 2 1] } ,{1 : [ 8 20 17] } ,{5 : [10  7 15] } ,]\n",
            "4(2): [ {1 : [3 2 2] } ,{3 : [ 6 15  7] } ,]\n",
            "1(4): [ {3 : [5 6 4] } ,{0 : [ 8 14 10] } ,{2 : [8 5 3] } ,{4 : [ 1 11  2] } ,]\n",
            "3(5): [ {4 : [ 3 16 14] } ,{1 : [ 8 10  0] } ,{5 : [ 7 13  7] } ,{2 : [ 0  3 12] } ,{0 : [ 4 17  6] } ,]\n",
            "2(2): [ {5 : [ 6 20  4] } ,{0 : [ 9  3 11] } ,]\n",
            "{0: [array([0]), array([[0., 0., 0.]])], 1: [array([4]), array([[ 7., 16.,  9.]])], 2: [array([0]), array([[8., 2., 1.]])], 3: [array([4, 1]), array([[10., 29., 14.],\n",
            "       [12., 22., 13.]])], 4: [array([0]), array([[ 4., 14.,  7.]])], 5: [array([0, 2]), array([[10.,  7., 15.],\n",
            "       [14., 22.,  5.]])]}\n"
          ],
          "name": "stdout"
        }
      ]
    }
  ]
}